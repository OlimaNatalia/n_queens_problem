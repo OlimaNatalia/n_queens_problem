{
 "cells": [
  {
   "cell_type": "markdown",
   "id": "62fb039a",
   "metadata": {},
   "source": [
    "## Problema de las n reinas\n",
    "\n",
    "- Programación avanzada\n",
    "- Olima, Natalia"
   ]
  },
  {
   "cell_type": "markdown",
   "id": "931a59e1",
   "metadata": {},
   "source": [
    "### Librerías"
   ]
  },
  {
   "cell_type": "code",
   "execution_count": null,
   "id": "ec05c420",
   "metadata": {},
   "outputs": [],
   "source": [
    "import numpy as np\n",
    "import random as rd\n",
    "import matplotlib.pyplot as plt\n",
    "from matplotlib.offsetbox import OffsetImage, AnnotationBbox\n",
    "from matplotlib import colors"
   ]
  },
  {
   "cell_type": "markdown",
   "id": "de5e61df",
   "metadata": {},
   "source": [
    "### Código del algoritmo"
   ]
  },
  {
   "cell_type": "code",
   "execution_count": null,
   "id": "7022758b",
   "metadata": {},
   "outputs": [],
   "source": [
    "class ReinasN:\n",
    "    '''Clase del algoritmo Reinas N que contiene todo el proceso'''\n",
    "    def __init__(self, n):\n",
    "        self.n = n\n",
    "    \n",
    "    def generar_pob(self, n):\n",
    "        '''Genera la población inicial aleatoriamente con 20 individuos'''\n",
    "        poblacion = []\n",
    "        for i in range(20):\n",
    "            pob_ini = np.random.randint(0, self.n, size = self.n).tolist()\n",
    "            poblacion.append(pob_ini)\n",
    "        return self.resolucion(n, poblacion, 0)\n",
    "    \n",
    "    def resolucion(self,n, pob, cont):\n",
    "        '''Función recursiva que somete a la población al algoritmo genético (la primer población es \n",
    "        la generada por comenzar_proceso y las siguientes son las mutadas)'''\n",
    "        if not type(pob[:]) == list:\n",
    "            return 'Programa finalizado' #Para que se detenga el programa después de generar el tablero\n",
    "        else: \n",
    "            cont +=1\n",
    "            while cont <=2000: \n",
    "                pob = self.ajustar(pob)\n",
    "                return self.resolucion(n, pob, cont)#Utiliza la recursividad para realizar el proceso \n",
    "                                                #con las siguientes generaciones\n",
    "    \n",
    "    def ajustar(self, poblacion):\n",
    "        '''Somete a la población al algorítmo genético.\n",
    "        Compara a cada 'gen' del individuo con los demás. Agrega la puntuación cada individuo a una lista de selección.\n",
    "        A mayor puntuación más amenazas entre reinas, puntuación ideal = 0 (sin amenazas). Cada amenaza suma 1 punto.'''\n",
    "        lista_puntuacion = []\n",
    "        for p in poblacion:\n",
    "            lista_1 = []\n",
    "            for j,i in enumerate(p):\n",
    "                for l,k in enumerate(p):\n",
    "                    if j == l: #Si es el mismo no hacer nada\n",
    "                        break \n",
    "                    #i fila, j columna, k otra fila, l otra columna\n",
    "                    #Se fija si hay reinas en la misma diagonal o fila\n",
    "                    #Si  hay, entonces hay amenaza y agrega un 1\n",
    "                    if ((p[j] - j == p[l] - l or p[j] + j == p[l] + l) or (j - p[l] == p[j] - p[l] or j-l == p[l]-p[j])):\n",
    "                        lista_1.append(1) #1 amenaza\n",
    "                    elif p[j]==p[l]: #Si están en la misma fila (equivalente a decir que los números son iguales)\n",
    "                        lista_1.append(1) #1 amenaza\n",
    "                    #Si no hay amenaza, entonces agrega un 0\n",
    "                    else:\n",
    "                        lista_1.append(0) #0 no amenaza\n",
    "            lista_puntuacion.append(sum(lista_1))     \n",
    "        return self.seleccionar(lista_puntuacion, poblacion) #Pasa a la etapa de selección\n",
    "    \n",
    "    def seleccionar(self, lista, pob):\n",
    "        '''Selecciona a los 10 individuos más aptos. Da la prioridad según la puntuación'''\n",
    "        seleccionados = [] #Guarda los 10 individuos seleccionados\n",
    "        for j,i in enumerate(lista): #Si la puntuación es cero, el individuo es óptimo\n",
    "            if i == 0:\n",
    "                return self.imprimir_optimo(pob[j])\n",
    "        for l in range(len(lista)): #Los va agregando por órden de puntuación\n",
    "            l -= 1\n",
    "            for j,i in enumerate(lista):\n",
    "                if i in range(l+1,l+2) and len(seleccionados)<10:\n",
    "                    seleccionados.append(pob[j])\n",
    "        return self.cruzar(seleccionados) #Pasa a la etapa de cruce\n",
    "    \n",
    "    def cruzar(self, pob_sel):\n",
    "        '''Cruza a los individuos aptos para crear nuevos con caracerísticas similares. \n",
    "        Los corta por la mitad y los combina unos con otros'''\n",
    "        pob_cruzada = []\n",
    "        lista_aux_pa = []\n",
    "        lista_aux_pb = []\n",
    "        if self.n % 2 == 0: #si n es par\n",
    "            for p in pob_sel:\n",
    "                lista_aux_pa.append(p[0:int(len(p)/2)+1]) #Guarda la mitad en una lista\n",
    "                lista_aux_pb.append(p[int(len(p)/2)+1:]) #Y la otra mitad en otra\n",
    "            for j,a in enumerate(lista_aux_pa): #combina las mitades\n",
    "                for i in range(int(len(a)-j+1)):\n",
    "                    pob_cruzada.append(a + lista_aux_pb[j+i+1])   \n",
    "        else: #si n es impar\n",
    "            for p in pob_sel: \n",
    "                lista_aux_pa.append(p[0:int(len(p)//2+1)]) #Guarda la mitad menos 1 en una lista \n",
    "                lista_aux_pb.append(p[int(len(p)//2)+1:]) #Y la otra mitad mas 1 en otra\n",
    "            for j,a in enumerate(lista_aux_pa):#combina las mitades\n",
    "                for i in range(int(len(a)-j+2)):\n",
    "                    pob_cruzada.append(a + lista_aux_pb[j+i+1])\n",
    "        return self.mutar(pob_cruzada)\n",
    "    \n",
    "    def mutar(self, pob):\n",
    "        '''Muta a los individuos para modificarlos.\n",
    "        A cada individuo le desordena los genes aleatoriamiente.\n",
    "        Además, si el primer gen está entre 0 y la longitud-1 entonces le suma 1 de lo contrario le resta 1.\n",
    "        Si el gen que se encuentra en el medio está entre 0 y la longitud -1 le resta 1'''\n",
    "        nueva_generacion = []\n",
    "        for p in pob:  \n",
    "            rd.shuffle(p) #Desordena los genes del individuo\n",
    "            if 0<=p[0]<self.n-1: #Suma 1 \n",
    "                p[0] = p[0]+1\n",
    "            else:\n",
    "                p[0] = p[0]-1 #Resta 1\n",
    "            if 0<p[int((len(p)-1)//2)]<=self.n-1: #Le resta uno al gen del medio\n",
    "                p[int((len(p)-1)//2)] = p[int((len(p)-1)//2)] -1\n",
    "            nueva_generacion.append(p)  \n",
    "        return nueva_generacion #Devuelve la población mutada para el siguiente proceso\n",
    "    \n",
    "    def imprimir_optimo(self, pob_op):\n",
    "        '''Función que se encarga de mostrar el individuo óptimo '''\n",
    "        x_set = [] \n",
    "        for i,y in enumerate(pob_op):\n",
    "            x_set.append(i) #Crea los valores para el eje x\n",
    "        x = np.array(x_set) #Convierto en array para despúes poder agregarle 0.5 a cada valor\n",
    "        path = 'img\\queen2.png' #Nombre del ícono de corona\n",
    "        fig, ax = plt.subplots()\n",
    "        for xi, yi in zip(x_set, pob_op): #Agrega el ícono\n",
    "            a = AnnotationBbox(OffsetImage(plt.imread(path), zoom= 0.4/self.n), (xi, yi), frameon=False)\n",
    "            ax.add_artist(a)\n",
    "        fig.set_size_inches(6, 6)#Configuración del tamaño del gráfico\n",
    "        fig.set_dpi(100)\n",
    "        plt.grid(True) #Habilita la grilla\n",
    "        res = np.add.outer(range(self.n), range(self.n))%2 \n",
    "        color_tablero = colors.ListedColormap(['maroon', 'tan']) #Color del tablero\n",
    "        plt.imshow(res, cmap= color_tablero)\n",
    "        plt.xticks(x+0.5) #Para que quede un punto en el medio\n",
    "        plt.yticks(x+0.5)\n",
    "        plt.xlim(-0.5, x[-1]+0.5) #Para que quede un punto en el medio\n",
    "        plt.ylim(-0.5, x[-1]+0.5)\n",
    "        plt.gca().set_aspect(\"equal\") #Para que la grilla sea cuadrada\n",
    "        plt.gca().axes.xaxis.set_ticklabels([]) #Para que no muestre los números\n",
    "        plt.gca().axes.yaxis.set_ticklabels([])\n",
    "        return 'parar' #Para decirle a la función recursiva que pare\n"
   ]
  },
  {
   "cell_type": "markdown",
   "id": "dbc78ee7",
   "metadata": {},
   "source": [
    "### Código de la función fachada"
   ]
  },
  {
   "cell_type": "code",
   "execution_count": null,
   "id": "4f1ea616",
   "metadata": {},
   "outputs": [],
   "source": [
    "def encontrar_solucion():\n",
    "    '''Función fachada para el usuario.\n",
    "    Esta función ejecuta el proceso hasta encontrar una solución para la n ingresada. Si no encuentra la solución \n",
    "    para la población inicial en las primeras 2000 iteraciones, intenta con otra población. \n",
    "    Esto es para asegurar una respuesta, porque (no sé por qué) no me permite realizar más de 2000 interaciones con una recursiva.\n",
    "    Ejemplo de uso:\n",
    "    encontrar_solucion(4)\n",
    "    '''\n",
    "    try:\n",
    "        n = int(input('Ingrese un número entre 4 y 8: '))\n",
    "        if n<4: #Mensaje si se ingresa un número menor a 4\n",
    "            return 'Entrada incorrecta. Ingrese un número entero mayor o igual 4 '\n",
    "        else: \n",
    "            if n >=9: #Mensaje si se ingresa un número mayor a 9\n",
    "                print('El número ingresado es mayor a 8. El programa puede tardar más en ejecutarse o generar errores. Se ejecutará de todas formas.')\n",
    "            print('Ejecutando. Por favor, aguarde...')\n",
    "            for i in range (1000): #Si en 2000 generaciones no encuentra el óptimo. Intenta con otra población inicial.\n",
    "                a = ReinasN(n).generar_pob(n)\n",
    "                if type(a) == str: \n",
    "                    break\n",
    "    except ValueError: #Mensaje si se ingresa un valor incorrecto\n",
    "        return 'Entrada incorrecta. Intente nuevamente ingresando un número entero.'\n",
    "        "
   ]
  },
  {
   "cell_type": "markdown",
   "id": "fb68d183",
   "metadata": {},
   "source": [
    "### Prueba"
   ]
  },
  {
   "cell_type": "code",
   "execution_count": null,
   "id": "3778ceb2",
   "metadata": {},
   "outputs": [],
   "source": [
    "'''Ejecutar'''\n",
    "encontrar_solucion()"
   ]
  },
  {
   "cell_type": "markdown",
   "id": "5e2f32f8",
   "metadata": {},
   "source": [
    "### Sitios consultados"
   ]
  },
  {
   "cell_type": "markdown",
   "id": "a1aec5b6",
   "metadata": {},
   "source": [
    "* https://www.w3schools.com/python/numpy/numpy_array_slicing.asp\n",
    "* https://www.w3schools.com/python/ref_random_shuffle.asp\n",
    "* https://numpy.org/\n",
    "* https://www.journaldev.com/32797/python-convert-numpy-array-to-list\n",
    "* https://refactoring.guru/es/design-patterns/facade\n",
    "* https://es.wikipedia.org/wiki/Problema_de_las_ocho_reinas\n",
    "* https://stackoverflow.com/questions/22566284/matplotlib-how-to-plot-images-instead-of-points\n",
    "* https://www.codespeedy.com/chess-board-using-matplotlib-python/\n",
    "* https://stackoverflow.com/questions/9707676/defining-a-discrete-colormap-for-imshow-in-matplotlib"
   ]
  }
 ],
 "metadata": {
  "kernelspec": {
   "display_name": "Python 3 (ipykernel)",
   "language": "python",
   "name": "python3"
  },
  "language_info": {
   "codemirror_mode": {
    "name": "ipython",
    "version": 3
   },
   "file_extension": ".py",
   "mimetype": "text/x-python",
   "name": "python",
   "nbconvert_exporter": "python",
   "pygments_lexer": "ipython3",
   "version": "3.9.7"
  }
 },
 "nbformat": 4,
 "nbformat_minor": 5
}
